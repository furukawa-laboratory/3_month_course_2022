{
 "cells": [
  {
   "cell_type": "code",
   "execution_count": 25,
   "metadata": {},
   "outputs": [],
   "source": [
    "from PIL import Image\n",
    "import numpy as np\n",
    "import os\n",
    "\n",
    "max_angle = 80\n",
    "pixel_size = 64\n",
    "N = int(2*max_angle/5+1)\n",
    "Dir = 'Angle/'\n",
    "Dir_resized = 'Angle_resized/'\n",
    "face_imgs = np.zeros((N,pixel_size,pixel_size))\n",
    "angles = np.linspace(-max_angle,max_angle,N,dtype=\"int8\")\n",
    "numSbj = 90\n",
    "# for i in range(numSbj):\n",
    "#     os.mkdir(Dir_resized+\"Subject{0:02d}/\".format(i+1))\n",
    "\n",
    "for i in range(numSbj):\n",
    "    for n,angle in enumerate(angles):\n",
    "        Sbj = '{}/A_{:02d}_'.format(angle,i+1)\n",
    "        if angle == 0:\n",
    "            file_name = '0.jpg'\n",
    "        else:\n",
    "            file_name = '{0:+03d}.jpg'.format(angle)\n",
    "        img = Image.open(Dir+Sbj+file_name).resize((pixel_size, pixel_size)).convert('L')\n",
    "        if not os.path.isdir(Dir_resized+Sbj.split('/')[0]): \n",
    "            os.mkdir(Dir_resized+Sbj.split('/')[0])\n",
    "        img.save(Dir_resized+Sbj+file_name)"
   ]
  }
 ],
 "metadata": {
  "kernelspec": {
   "display_name": "Python 3",
   "language": "python",
   "name": "python3"
  },
  "language_info": {
   "codemirror_mode": {
    "name": "ipython",
    "version": 3
   },
   "file_extension": ".py",
   "mimetype": "text/x-python",
   "name": "python",
   "nbconvert_exporter": "python",
   "pygments_lexer": "ipython3",
   "version": "3.7.2"
  }
 },
 "nbformat": 4,
 "nbformat_minor": 2
}

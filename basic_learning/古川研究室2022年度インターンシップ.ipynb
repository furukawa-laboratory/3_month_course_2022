{
 "cells": [
  {
   "cell_type": "markdown",
   "id": "40fc7bea-2bc3-4c82-97f6-e8366e46ea1c",
   "metadata": {},
   "source": [
    "# 古川研究室2022年度インターンシップ\n",
    "\n",
    "## 目次\n",
    "1. 説明\n",
    "2. 準備\n",
    "3. 行列\n",
    "4. 演習"
   ]
  },
  {
   "cell_type": "markdown",
   "id": "1abef01b-b613-487e-a838-1d7b6ebfcd25",
   "metadata": {},
   "source": [
    "#　1. 説明\n",
    "\n",
    "藤本くん，岡田くん，北島くん，古川研究室へようこそ！\n",
    "この研究室では，多様体モデリングという機械学習の手法を軸にした研究を行っています．\n",
    "\n",
    "ここでは，皆さんに実際にpythonというプログラム言語に触れて，その使い方を体験してもらいます．\n",
    "これまで学校の授業で触ったことがある人もいるかもしれませんし，学校ではC言語しか触ったことがないっていう人もいると思います．\n",
    "\n",
    "そのため，できるだけ丁寧に基礎から教えれたらなと考えています．\n",
    "また，何より楽しんでほしいと思っています．\n",
    "\n",
    "何かわからないことがあったら，何がわからないかわからなかったら，周りにいる先輩に話しかけてください．こちらから話しかけにいく場合もあると思います．先輩達は全力でサポートするので，できるだけリラックスして，楽しみながら取り組んでみてください．"
   ]
  },
  {
   "cell_type": "markdown",
   "id": "56b27198-7698-4902-964a-0f5293eb8075",
   "metadata": {},
   "source": [
    "# 2.準備\n",
    "\n",
    "pythonを触るのは初めてという前提で準備を始めます．\n",
    "もし”触ったことがあるよ”っていう人がいた場合は，この項目はスキップしても構いません．\n",
    "\n",
    "まずはメッセージの表示方法です．\n",
    "C言語を触ったことがあれば近しいものを感じるかもしれません．\n",
    "\n",
    "pythonにはある決まった命令を送ることができる関数がいくつもあります．その中に，\"print\"関数というものがあります．\n",
    "これは，この関数を入力した後に（）をつけることで，（）の中身を結果に表示してくれます．\n",
    "ここで文を表示したいときは，その文を””で囲います．\n",
    "\n",
    "実際にやってみましょう\n",
    "\n",
    "例題"
   ]
  },
  {
   "cell_type": "code",
   "execution_count": 5,
   "id": "b7d38c09-98e4-4fd1-b597-fd9acc01d536",
   "metadata": {},
   "outputs": [
    {
     "name": "stdout",
     "output_type": "stream",
     "text": [
      "apple\n"
     ]
    }
   ],
   "source": [
    "print(\"apple\")"
   ]
  },
  {
   "cell_type": "markdown",
   "id": "28daa9a2-aa09-4acc-ab7e-4cc0bd244dae",
   "metadata": {},
   "source": [
    "# 足し算引き算\n",
    "\n",
    "先ほど覚えたprint関数の中で，足し算引き算を行うことができます．\n",
    "コンピュータの世界では，×は＊ ➗は/で表します．\n",
    "括弧付きの計算や乗数も行うことができ，xの２乗はx^2のように表記します．\n",
    "\n",
    "実際にやってみましょう"
   ]
  },
  {
   "cell_type": "markdown",
   "id": "391fcfb5-651c-4c23-a705-4dd34dd0863c",
   "metadata": {},
   "source": [
    "3＋５"
   ]
  },
  {
   "cell_type": "code",
   "execution_count": null,
   "id": "91a0cc1e-fe3b-4220-b05a-276a49ed462a",
   "metadata": {},
   "outputs": [],
   "source": []
  },
  {
   "cell_type": "markdown",
   "id": "8682aa09-77d6-4a94-b08e-d93770c8e6ec",
   "metadata": {},
   "source": [
    "８×９-12÷(4+2)"
   ]
  },
  {
   "cell_type": "code",
   "execution_count": null,
   "id": "ae5fc413-85f6-4af6-aa50-bc7e9d0c1422",
   "metadata": {},
   "outputs": [],
   "source": []
  },
  {
   "cell_type": "markdown",
   "id": "71cab9b1-4152-4a52-a7c8-bf641693ac10",
   "metadata": {},
   "source": [
    "\\begin{equation}\n",
    "   \\frac{3}{4}\\pi r^2 \n",
    "\\end{equation}"
   ]
  },
  {
   "cell_type": "markdown",
   "id": "5c879867-5a2e-41c0-9e1a-d8ddf041ab98",
   "metadata": {},
   "source": [
    "\\begin{equation}\n",
    "   r=5\n",
    "\\end{equation}"
   ]
  },
  {
   "cell_type": "code",
   "execution_count": null,
   "id": "66ca7815-1c89-4b35-845c-6ee6753f2f02",
   "metadata": {},
   "outputs": [],
   "source": []
  },
  {
   "cell_type": "markdown",
   "id": "ea991051-0284-4661-9d39-68a7bc707342",
   "metadata": {},
   "source": [
    "# 3. 行列\n",
    "\n",
    "皆さんは行列を知っているでしょうか？\n",
    "数学３で習った人もいるでしょうし，大学や高専に入ってから線形数学の授業で習った人もいると思います．ここではその復讐と，python上における簡単な計算の方法について紹介します．"
   ]
  },
  {
   "cell_type": "markdown",
   "id": "873fdcfd-1749-401e-ab03-7a46b0ee2ad3",
   "metadata": {},
   "source": []
  },
  {
   "cell_type": "markdown",
   "id": "520dc828-ebc8-4d82-8a20-eecdeeb8663b",
   "metadata": {},
   "source": []
  },
  {
   "cell_type": "code",
   "execution_count": null,
   "id": "9d32b491-96ab-4080-8ac0-3ea3906665b6",
   "metadata": {},
   "outputs": [],
   "source": []
  },
  {
   "cell_type": "code",
   "execution_count": null,
   "id": "748fb584-f00c-4496-b952-25886ab7f6bb",
   "metadata": {},
   "outputs": [],
   "source": []
  }
 ],
 "metadata": {
  "kernelspec": {
   "display_name": "Python 3 (ipykernel)",
   "language": "python",
   "name": "python3"
  },
  "language_info": {
   "codemirror_mode": {
    "name": "ipython",
    "version": 3
   },
   "file_extension": ".py",
   "mimetype": "text/x-python",
   "name": "python",
   "nbconvert_exporter": "python",
   "pygments_lexer": "ipython3",
   "version": "3.9.13"
  }
 },
 "nbformat": 4,
 "nbformat_minor": 5
}

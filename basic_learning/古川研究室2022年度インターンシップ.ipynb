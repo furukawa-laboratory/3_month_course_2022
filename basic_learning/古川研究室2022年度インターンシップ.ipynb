{
 "cells": [
  {
   "cell_type": "markdown",
   "id": "40fc7bea-2bc3-4c82-97f6-e8366e46ea1c",
   "metadata": {},
   "source": [
    "# 古川研究室2022年度インターンシップ\n",
    "\n",
    "## 目次\n",
    "1. 説明\n",
    "2. 準備\n",
    "3. 行列\n",
    "4. 演習"
   ]
  },
  {
   "cell_type": "markdown",
   "id": "1abef01b-b613-487e-a838-1d7b6ebfcd25",
   "metadata": {},
   "source": [
    "#　1. 説明\n",
    "\n",
    "藤本くん，岡田くん，北島くん，古川研究室へようこそ！\n",
    "この研究室では，多様体モデリングという機械学習の手法を軸にした研究を行っています．\n",
    "\n",
    "ここでは，皆さんに実際にpythonというプログラム言語に触れて，その使い方を体験してもらいます．\n",
    "これまで学校の授業で触ったことがある人もいるかもしれませんし，学校ではC言語しか触ったことがないっていう人もいると思います．\n",
    "\n",
    "そのため，できるだけ丁寧に基礎から教えれたらなと考えています．\n",
    "また，何より楽しんでほしいと思っています．\n",
    "\n",
    "何かわからないことがあったら，何がわからないかわからなかったら，周りにいる先輩に話しかけてください．こちらから話しかけにいく場合もあると思います．先輩達は全力でサポートするので，できるだけリラックスして，楽しみながら取り組んでみてください．"
   ]
  },
  {
   "cell_type": "markdown",
   "id": "56b27198-7698-4902-964a-0f5293eb8075",
   "metadata": {},
   "source": [
    "# 2.準備\n",
    "\n",
    "pythonを触るのは初めてという前提で準備を始めます．\n",
    "もし”触ったことがあるよ”っていう人がいた場合は，この項目はスキップしても構いません．\n",
    "\n",
    "まずはメッセージの表示方法です．\n",
    "C言語を触ったことがあれば近しいものを感じるかもしれません．\n",
    "\n",
    "pythonにはある決まった命令を送ることができる関数がいくつもあります．その中に，\"print\"関数というものがあります．\n",
    "これは，この関数を入力した後に（）をつけることで，（）の中身を結果に表示してくれます．\n",
    "ここで文を表示したいときは，その文を””で囲います．\n",
    "\n",
    "実際にやってみましょう\n",
    "\n",
    "例題"
   ]
  },
  {
   "cell_type": "code",
   "execution_count": 5,
   "id": "b7d38c09-98e4-4fd1-b597-fd9acc01d536",
   "metadata": {},
   "outputs": [
    {
     "name": "stdout",
     "output_type": "stream",
     "text": [
      "apple\n"
     ]
    }
   ],
   "source": [
    "print(\"apple\")"
   ]
  },
  {
   "cell_type": "markdown",
   "id": "28daa9a2-aa09-4acc-ab7e-4cc0bd244dae",
   "metadata": {},
   "source": [
    "# 足し算引き算\n",
    "\n",
    "先ほど覚えたprint関数の中で，足し算引き算を行うことができます．\n",
    "コンピュータの世界では，×は＊ ➗は/で表します．\n",
    "括弧付きの計算や乗数も行うことができ，xの２乗はx^2のように表記します．\n",
    "\n",
    "実際にやってみましょう"
   ]
  },
  {
   "cell_type": "markdown",
   "id": "391fcfb5-651c-4c23-a705-4dd34dd0863c",
   "metadata": {},
   "source": [
    "3＋５"
   ]
  },
  {
   "cell_type": "code",
   "execution_count": null,
   "id": "91a0cc1e-fe3b-4220-b05a-276a49ed462a",
   "metadata": {},
   "outputs": [],
   "source": []
  },
  {
   "cell_type": "markdown",
   "id": "8682aa09-77d6-4a94-b08e-d93770c8e6ec",
   "metadata": {},
   "source": [
    "８×９-12÷(4+2)"
   ]
  },
  {
   "cell_type": "code",
   "execution_count": null,
   "id": "ae5fc413-85f6-4af6-aa50-bc7e9d0c1422",
   "metadata": {},
   "outputs": [],
   "source": []
  },
  {
   "cell_type": "markdown",
   "id": "71cab9b1-4152-4a52-a7c8-bf641693ac10",
   "metadata": {},
   "source": [
    "\\begin{equation}\n",
    "   \\frac{3}{4}\\pi r^2 \n",
    "\\end{equation}"
   ]
  },
  {
   "cell_type": "markdown",
   "id": "5c879867-5a2e-41c0-9e1a-d8ddf041ab98",
   "metadata": {},
   "source": [
    "\\begin{equation}\n",
    "   r=5\n",
    "\\end{equation}"
   ]
  },
  {
   "cell_type": "code",
   "execution_count": null,
   "id": "66ca7815-1c89-4b35-845c-6ee6753f2f02",
   "metadata": {},
   "outputs": [],
   "source": []
  },
  {
   "cell_type": "markdown",
   "id": "01491008-e4d4-4aad-b996-1acd53c0efc3",
   "metadata": {},
   "source": [
    "また，pythonでは任意の変数にデータを格納することができます．自分の計算結果をそれに保存することで，また別のところで容易に呼び出すことができます．\n",
    "試しに，自分の好きな変数を二つ作り，５と１０という数値を入れてみましょう．"
   ]
  },
  {
   "cell_type": "code",
   "execution_count": null,
   "id": "86cd5cb9-5f70-4ac8-a012-9283f35a0f56",
   "metadata": {},
   "outputs": [],
   "source": [
    "”任意の変数名” = 5"
   ]
  },
  {
   "cell_type": "code",
   "execution_count": null,
   "id": "ad1811ee-8141-4e92-91cf-861228dbf402",
   "metadata": {},
   "outputs": [],
   "source": [
    "”任意の変数名” = 10"
   ]
  },
  {
   "cell_type": "markdown",
   "id": "cb9df005-1ddf-48bb-af4f-8970acb1023d",
   "metadata": {},
   "source": [
    "では上でつくったものをprint関数で出力してみましょう．"
   ]
  },
  {
   "cell_type": "code",
   "execution_count": null,
   "id": "a9daf8d4-b20d-47a5-9fd6-a2df80fbac7f",
   "metadata": {},
   "outputs": [],
   "source": []
  },
  {
   "cell_type": "code",
   "execution_count": null,
   "id": "e62b512e-dc72-4b16-ba82-ddd22bb3dd22",
   "metadata": {},
   "outputs": [],
   "source": []
  },
  {
   "cell_type": "markdown",
   "id": "8044a7b5-e512-4367-8a46-0d8e9c043812",
   "metadata": {},
   "source": [
    "上で作成した変数には，数値以外に文章を格納することもできます．\n",
    "試しに自分の好きなセリフを出力してみましょう.\n",
    "\n",
    "文章を入力するときは，その文章を””で囲むのを忘れずに，"
   ]
  },
  {
   "cell_type": "code",
   "execution_count": 2,
   "id": "bf55e09a-47f2-4324-82c9-260115a4b1c6",
   "metadata": {},
   "outputs": [],
   "source": [
    "x = \"STAND_BY_ME\""
   ]
  },
  {
   "cell_type": "code",
   "execution_count": 3,
   "id": "1e6db376-85d5-498e-a02f-c316b0572599",
   "metadata": {},
   "outputs": [],
   "source": [
    "y = \"DORAEMON\""
   ]
  },
  {
   "cell_type": "code",
   "execution_count": 4,
   "id": "3b4569e1-8a20-41c6-85fe-6cd136fbfe52",
   "metadata": {},
   "outputs": [
    {
     "name": "stdout",
     "output_type": "stream",
     "text": [
      "STAND_BY_ME DORAEMON\n"
     ]
    }
   ],
   "source": [
    "print(x,y)"
   ]
  },
  {
   "cell_type": "markdown",
   "id": "ea991051-0284-4661-9d39-68a7bc707342",
   "metadata": {},
   "source": [
    "# 3. 行列\n",
    "\n",
    "皆さんは行列を知っているでしょうか？\n",
    "数学３で習った人もいるでしょうし，大学や高専に入ってから線形数学の授業で習った人もいると思います．ここではその復讐と，python上における簡単な計算の方法について紹介します．"
   ]
  },
  {
   "cell_type": "markdown",
   "id": "873fdcfd-1749-401e-ab03-7a46b0ee2ad3",
   "metadata": {},
   "source": [
    "行列とは，データを行と列で示したもので，\n",
    "\\begin{bmatrix}\n",
    "a & b \\\\\n",
    "c & d \\\\\n",
    "\\end{bmatrix}\n",
    "のような形になっています\n",
    "\n",
    "行列において，横の並びを行，縦の並びを列と呼びます"
   ]
  },
  {
   "cell_type": "markdown",
   "id": "520dc828-ebc8-4d82-8a20-eecdeeb8663b",
   "metadata": {},
   "source": [
    "行列においても足し算引き算などの計算を行うことができますが，まずはpythonでの行列の作成方法について説明します．\n",
    "ここからはnumpyと呼ばれる拡張パッケージを使用するので，もし家でもやりたいってなった場合は，下の一つ目のインポートの手順を忘れずに"
   ]
  },
  {
   "cell_type": "code",
   "execution_count": 9,
   "id": "9d32b491-96ab-4080-8ac0-3ea3906665b6",
   "metadata": {},
   "outputs": [],
   "source": [
    "import numpy as np"
   ]
  },
  {
   "cell_type": "markdown",
   "id": "0cfc88e0-40ac-45fa-88e6-fd2bfd7d0bd6",
   "metadata": {},
   "source": [
    "上のコードを実行することで，準備が整います．\n",
    "\n",
    "では，行列を実際に作ってみましょう．\n",
    "numpyには，行列を作成してくれるarray関数というものがあり，これを使用して行列を作成します．\n",
    "\n",
    "試しに上記の行列の形のアルファベットに自由な数字を入れて行列を作ってみましょう.\n",
    "コンピュータプログラム上で，行と列の区別をつけるには，横方向を[]で設定し，それを縦に積み重ねるイメージで列の数だけ設定します．最後にその全てを再び囲います[[a,b]，[c,d]]\n",
    "\n",
    "\n"
   ]
  },
  {
   "cell_type": "code",
   "execution_count": 12,
   "id": "4a62d379-ac6f-4d1c-a7ea-7c114eec357c",
   "metadata": {},
   "outputs": [],
   "source": [
    "dx = np.array([[2,4],[6,8]])"
   ]
  },
  {
   "cell_type": "code",
   "execution_count": 14,
   "id": "8e103e25-66d9-4e48-bb34-c279103c4a11",
   "metadata": {},
   "outputs": [
    {
     "name": "stdout",
     "output_type": "stream",
     "text": [
      "[[2 4]\n",
      " [6 8]]\n"
     ]
    }
   ],
   "source": [
    "print(dx)"
   ]
  },
  {
   "cell_type": "markdown",
   "id": "1f344d9b-1f4d-4386-b618-1acc8ed82cb9",
   "metadata": {},
   "source": [
    "では，行と列を増やしたものを自分で作ってみましょう．"
   ]
  },
  {
   "cell_type": "code",
   "execution_count": null,
   "id": "85ae607c-5e1e-4d55-b12f-d5ecd82ed32e",
   "metadata": {},
   "outputs": [],
   "source": []
  },
  {
   "cell_type": "markdown",
   "id": "bdb30a1c-494f-43f2-9ec2-21d65c94ad1e",
   "metadata": {},
   "source": [
    "この行列を扱っていく上で，よくshapeというものを使用します．"
   ]
  },
  {
   "cell_type": "code",
   "execution_count": null,
   "id": "ff72c89b-00ff-472e-94cb-d0cca005488b",
   "metadata": {},
   "outputs": [],
   "source": []
  }
 ],
 "metadata": {
  "kernelspec": {
   "display_name": "Python 3 (ipykernel)",
   "language": "python",
   "name": "python3"
  },
  "language_info": {
   "codemirror_mode": {
    "name": "ipython",
    "version": 3
   },
   "file_extension": ".py",
   "mimetype": "text/x-python",
   "name": "python",
   "nbconvert_exporter": "python",
   "pygments_lexer": "ipython3",
   "version": "3.9.13"
  }
 },
 "nbformat": 4,
 "nbformat_minor": 5
}

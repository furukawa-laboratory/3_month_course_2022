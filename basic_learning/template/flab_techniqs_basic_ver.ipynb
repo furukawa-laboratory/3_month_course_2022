{
 "cells": [
  {
   "cell_type": "markdown",
   "id": "96ac4e69-d2e1-4dc4-ad6f-8be677f1a8e8",
   "metadata": {},
   "source": [
    "# 基盤技術開発テクニック練習ノートブック\n",
    "\n"
   ]
  },
  {
   "cell_type": "code",
   "execution_count": null,
   "id": "08b119d2-d957-4612-8c73-7345ea5107ff",
   "metadata": {},
   "outputs": [],
   "source": [
    "## 2022年度 instance Ver (実例駆動)"
   ]
  },
  {
   "cell_type": "code",
   "execution_count": null,
   "id": "4b7fed62-a29f-4cd1-9aef-807a781e99d0",
   "metadata": {},
   "outputs": [],
   "source": [
    "## 目次\n",
    "1. 説明\n",
    "2. 準備\n",
    "3. 実装\n",
    "4. 演習\n"
   ]
  },
  {
   "cell_type": "code",
   "execution_count": null,
   "id": "9e57f9dc-e709-4619-9483-b736d8deb6d5",
   "metadata": {
    "tags": []
   },
   "outputs": [],
   "source": [
    "## 1. このノートブックについての説明\n",
    "数式の実装には多くの解があります．例えば，行列演算の実装はfor文によって要素ずつ計算する方法と行列計算ライブラリによって計算する方法と大きく分けて二通りがあります．\n",
    "\n",
    "このノートブックには，古川研究室でよく使われる行列演算の典型的なテクニックをできるだけ網羅してjupyter notebookにまとめました．　\n",
    "\n",
    "jupyter notebookにまとめることによって，　実際にプログラムを実行しながら**道具の存在を知ってもらう**・学習できるようになることを目標に作りました．"
   ]
  },
  {
   "cell_type": "code",
   "execution_count": null,
   "id": "80d284db-531d-49b2-a713-e4dd33353128",
   "metadata": {},
   "outputs": [],
   "source": [
    "### 1.1 mission success criteria\n",
    "このノートブックを使うことにより達成すべき要件は以下になります．\n",
    "\n",
    "||ミニマムサクセス|スタンダードサクセス|フルサクセス|\n",
    "|-:|:-|:-|:-|\n",
    "|ノートブックについて|このノートブックを最後まで実行できる．|演習問題・実践問題を全て取り組むことができる|不要な表現の削除，必要な機能の追加等適宜このノートブックを更新できる．|\n",
    "|各機能について　|各機能の入力と出力（どのようなshapeになっているか）が説明できる|各機能でどのような演算が行われているか説明できる|各機能のオプション（オプション引数）を把握している|\n"
   ]
  },
  {
   "cell_type": "code",
   "execution_count": null,
   "id": "db53a015-148b-4f1f-8119-13c48e4f8f6d",
   "metadata": {
    "jp-MarkdownHeadingCollapsed": true,
    "tags": []
   },
   "outputs": [],
   "source": [
    "### 1.2 参考文献とレベル感の共有\n",
    "\n",
    "このノートブックでも必要再現の操作は抑えますが，事前知識として以下の本を読むことを推奨します．\n",
    "\n",
    "Dropboxにpdfがあるので手元におくのを推奨します．\n",
    "\n",
    "- Level.0（Pythonをまったく触ったときない・プログラミング全くの初心者・数値計算がわからない人はここから）: 「[ゼロからつくるPython機械学習プログラミング入門](https://www.dropbox.com/s/7r6cbcux1br1jhb/%E3%82%BC%E3%83%AD%E3%81%8B%E3%82%89%E4%BD%9C%E3%82%8BPython%E6%A9%9F%E6%A2%B0%E5%AD%A6%E7%BF%92%E3%83%97%E3%83%AD%E3%82%B0%E3%83%A9%E3%83%9F%E3%83%B3%E3%82%B0%E5%85%A5%E9%96%80_pass.pdf?dl=0)」\n",
    "\n",
    "  - chapter2：Python入門\n",
    "    - 2.1.3 **jupyter notebook**\n",
    "  - chapter3：数学のおさらい\n",
    "  \n",
    "  \n",
    "- level.2（Pythonを別の分野で触ったことある，別の言語で数値計算をしたときがある人はここから）：「[Numpyデータ処理入門](https://www.dropbox.com/s/kvqxd743johvztu/Numpy%E3%83%87%E3%83%BC%E3%82%BF%E5%87%A6%E7%90%86%E5%85%A5%E9%96%80.pdf?dl=0)」\n",
    "\n",
    "  - 1.2: ブロードキャスト\n",
    "  - 1.3: ブロードキャスト\n",
    "  - 2.1: reshape\n",
    "  - 2.6: argmax\n",
    "  - 2.7: transpose\n",
    "  - 2.10: matplotlib\n",
    "  - 2.17:random\n",
    "  - 2.25: np.newaxis(=None)\n",
    "  - 3.4 sum\n",
    "  - 3.9: meshgrid\n",
    "  - 4.2: 線形回帰\n",
    "  \n",
    "- level.4（実践に近いところから学んでいきたい人はここから）：このノートブック(複数のメソッドの組み合わせで機能を実現する)（flab_techniqs）\n",
    "\n",
    "- level.6（Level.2の内容がそれぞれ何をするかがだいたいわかった人・実践に近いところ学んでいきたい人はここから）：flab_techniqs_instance_ver（実例をだしてその）\n",
    "\n",
    "- level.10：SOM，UKRの実装"
   ]
  },
  {
   "cell_type": "markdown",
   "id": "c50e8055",
   "metadata": {},
   "source": [
    "## 2. 機能（モジュール）の紹介と準備\n",
    "ここからは，jupyterの機能を使い，プログラムを実行しながらモジュール（ライブラリ）を見ていきましょう．\n",
    "それでは，次の灰色のセル（import numpy as np）から shift+enter でプログラムを実行しください．（jupyter notebookについてわからない人はゼロからつくるPython機械学習プログラミング入門の2.1.3を読んでください）．\n",
    "\n",
    "### 2.1 [Numpy](https://numpy.org/doc/stable/user/index.html)\n",
    "\n",
    "NumpyはPythonで科学的な計算を行うための基本的なパッケージです。行列計算は機械学習に限らず数値計算の基本であり，Numpyはその行列計算を高速に計算します．"
   ]
  },
  {
   "cell_type": "code",
   "execution_count": 2,
   "id": "4d32dc24",
   "metadata": {},
   "outputs": [],
   "source": [
    "# numpyをimportします． as npで短縮してnpという名前で使うのが一般的です．\n",
    "import numpy as np"
   ]
  },
  {
   "cell_type": "code",
   "execution_count": 3,
   "id": "064af13f",
   "metadata": {},
   "outputs": [
    {
     "name": "stdout",
     "output_type": "stream",
     "text": [
      "[[1. 0. 0. 0. 0.]\n",
      " [0. 1. 0. 0. 0.]\n",
      " [0. 0. 1. 0. 0.]\n",
      " [0. 0. 0. 1. 0.]\n",
      " [0. 0. 0. 0. 1.]]\n"
     ]
    },
    {
     "data": {
      "text/plain": [
       "(5, 5)"
      ]
     },
     "execution_count": 3,
     "metadata": {},
     "output_type": "execute_result"
    }
   ],
   "source": [
    "# 5次元の単位行列を作ります．\n",
    "A = np.eye(5)\n",
    "\n",
    "# 中身を確認します．\n",
    "print(A)\n",
    "# 配列のサイズを確認します． (5, 5)は 5　x　５の行列になっているという意味です． \n",
    "# また， jupyterではセルの最後の行はprint()と括らなくても出力されます．\n",
    "A.shape"
   ]
  },
  {
   "cell_type": "markdown",
   "id": "0a880770",
   "metadata": {},
   "source": [
    "### 2.2 [Matplotlib](https://)\n",
    "MatplotlibはPythonの描画パッケージです． （描画の実装で悩むのはアルゴリズムの実装と理解にはあまり関係ないので，困ったら知ってる人に効くことをおすすめします．）"
   ]
  },
  {
   "cell_type": "code",
   "execution_count": 4,
   "id": "9daf51fc",
   "metadata": {},
   "outputs": [
    {
     "name": "stdout",
     "output_type": "stream",
     "text": [
      "[[ 0  1]\n",
      " [ 2  3]\n",
      " [ 4  5]\n",
      " [ 6  7]\n",
      " [ 8  9]\n",
      " [10 11]\n",
      " [12 13]\n",
      " [14 15]\n",
      " [16 17]\n",
      " [18 19]\n",
      " [20 21]\n",
      " [22 23]] (12, 2)\n"
     ]
    }
   ],
   "source": [
    "import matplotlib.pyplot as plt\n",
    "from matplotlib import animation\n",
    "from IPython.display import HTML\n",
    "N = 12 # データ数\n",
    "D = 2 # 次元数\n",
    "\n",
    "# 二次元データをN個つくります．\n",
    "X = np.arange(N * D).reshape(N,D)\n",
    "print(X, X.shape)"
   ]
  },
  {
   "cell_type": "code",
   "execution_count": 5,
   "id": "b50cf306",
   "metadata": {},
   "outputs": [
    {
     "name": "stdout",
     "output_type": "stream",
     "text": [
      "\n"
     ]
    },
    {
     "data": {
      "image/png": "[encoded data removed]",
      "text/plain": [
       "<Figure size 432x288 with 1 Axes>"
      ]
     },
     "metadata": {
      "needs_background": "light"
     },
     "output_type": "display_data"
    }
   ],
   "source": [
    "# 散布図(scatter)で描画します． \n",
    "## 第一引数にはx座標の値のベクトル．第二引数にはy座標の値のベクトルをいれます．\n",
    "plt.scatter(X[:,0], X[:,1], marker='x', label='x')\n",
    "[plt.text(X[n,0], X[n,1], \"(\"+str(X[n,0])+\",\"+str(X[n,1])+\")\") for n in range(N)]\n",
    "plt.legend()\n",
    "print(\"\")"
   ]
  },
  {
   "cell_type": "markdown",
   "id": "f0b5d30f",
   "metadata": {},
   "source": [
    "### 2.3 [Jax, Jaxlib](https://github.com/google/jax)\n",
    "\n",
    "自動微分パッケージです． JaxはNumpyの延長の感覚で今の時代にあわせた機械学習の機能を提供してくれます．\n",
    "- [JAX入門～高速なNumPyとして使いこなすためのチュートリアル～](https://qiita.com/koshian2/items/44a871386576b4f80aff)"
   ]
  },
  {
   "cell_type": "code",
   "execution_count": 6,
   "id": "8edb305a",
   "metadata": {},
   "outputs": [
    {
     "name": "stderr",
     "output_type": "stream",
     "text": [
      "WARNING:absl:No GPU/TPU found, falling back to CPU. (Set TF_CPP_MIN_LOG_LEVEL=0 and rerun for more info.)\n"
     ]
    },
    {
     "name": "stdout",
     "output_type": "stream",
     "text": [
      "[[ 0.  1.  2.  3.  4.]\n",
      " [ 5.  6.  7.  8.  9.]\n",
      " [10. 11. 12. 13. 14.]\n",
      " [15. 16. 17. 18. 19.]\n",
      " [20. 21. 22. 23. 24.]]\n"
     ]
    }
   ],
   "source": [
    "import jax,jaxlib\n",
    "import jax.numpy as jnp\n",
    "\n",
    "# NumPyではnp.arange(25, dtype=np.float32).reshape(5, 5)\n",
    "x = jnp.arange(25, dtype=jnp.float32).reshape(5, 5)\n",
    "print(x)\n",
    "\n",
    "# ↓↓↓↓↓↓↓↓↓↓↓↓↓↓↓↓↓↓↓↓ GPUがないPCだと以下のWarningがでるはず\n",
    "# WARNING:absl:No GPU/TPU found, falling back to CPU. (Set TF_CPP_MIN_LOG_LEVEL=0 and rerun for more info.)\n",
    "# ↓↓↓↓↓↓↓↓↓↓↓↓↓↓↓↓↓↓↓↓"
   ]
  },
  {
   "cell_type": "markdown",
   "id": "3e90f40b-b86a-4a98-ac25-03243cece40d",
   "metadata": {},
   "source": [
    "### 2.4 Scipy\n",
    "機械学習に限らない処理にまつわるライブラリです．以下のような操作ができます．\n",
    "\n",
    "- ファイル入出力: scipy.io\n",
    "- 特殊関数: scipy.special\n",
    "- 線形代数演算: scipy.linalg\n",
    "- 高速 Fourier 変換: scipy.fftpack\n",
    "- 最適化とフィット: scipy.optimize\n",
    "- 統計と乱数: scipy.stats\n",
    "- 補間: scipy.interpolate\n",
    "- 数値積分: scipy.integrate\n",
    "- 信号解析: scipy.signal\n",
    "- 画像処理: scipy.ndimage\n",
    "- 科学技術計算の総合演習"
   ]
  },
  {
   "cell_type": "code",
   "execution_count": 7,
   "id": "3c9ec292-1c76-403d-a660-d10d39f4fdb8",
   "metadata": {},
   "outputs": [
    {
     "data": {
      "text/plain": [
       "(-0.5, 1023.5, 767.5, -0.5)"
      ]
     },
     "execution_count": 7,
     "metadata": {},
     "output_type": "execute_result"
    },
    {
     "data": {
      "image/png": "[encoded data removed]",
      "text/plain": [
       "<Figure size 432x288 with 1 Axes>"
      ]
     },
     "metadata": {
      "needs_background": "light"
     },
     "output_type": "display_data"
    }
   ],
   "source": [
    "import scipy\n",
    "from scipy import misc\n",
    "face = misc.face(gray=True)\n",
    "plt.imshow(face, cmap=plt.cm.gray)    \n",
    "plt.axis('off')"
   ]
  },
  {
   "cell_type": "code",
   "execution_count": 8,
   "id": "3f3364d6-e223-44a5-a27f-f3ff2bbb0e3d",
   "metadata": {},
   "outputs": [
    {
     "data": {
      "text/plain": [
       "(-0.5, 1270.5, 1176.5, -0.5)"
      ]
     },
     "execution_count": 8,
     "metadata": {},
     "output_type": "execute_result"
    },
    {
     "data": {
      "image/png": "[encoded data removed]",
      "text/plain": [
       "<Figure size 432x288 with 1 Axes>"
      ]
     },
     "metadata": {
      "needs_background": "light"
     },
     "output_type": "display_data"
    }
   ],
   "source": [
    "# ちょっとした画像の編集もできる\n",
    "from scipy import ndimage\n",
    "rotated_face = ndimage.rotate(face, 30)\n",
    "plt.imshow(rotated_face, cmap=plt.cm.gray)    \n",
    "plt.axis('off')"
   ]
  },
  {
   "cell_type": "markdown",
   "id": "d6f215dc-59b3-437f-8c12-50646a22e4f5",
   "metadata": {},
   "source": [
    "### 2.5 [Sklearn](https://scikit-learn.org/stable/)\n",
    "一般的な機械学習のライブラリです．\n",
    "（ちなみに，よくある間違いとして，開発環境にインストールするときは， pip install sklearnではなく， pip install scikit-learnとする必要があります．）\n",
    "\n",
    "- 分類（classification）\n",
    "- 回帰（regression）\n",
    "- 次元圧縮（dimensionality reduction）\n",
    "- クラスタリング（clustering）"
   ]
  },
  {
   "cell_type": "code",
   "execution_count": 9,
   "id": "ed79bd95-43fb-449d-a879-8e5b9413383f",
   "metadata": {
    "tags": []
   },
   "outputs": [
    {
     "ename": "ModuleNotFoundError",
     "evalue": "No module named 'sklearn'",
     "output_type": "error",
     "traceback": [
      "\u001b[0;31m---------------------------------------------------------------------------\u001b[0m",
      "\u001b[0;31mModuleNotFoundError\u001b[0m                       Traceback (most recent call last)",
      "Input \u001b[0;32mIn [9]\u001b[0m, in \u001b[0;36m<cell line: 1>\u001b[0;34m()\u001b[0m\n\u001b[0;32m----> 1\u001b[0m \u001b[38;5;28;01mfrom\u001b[39;00m \u001b[38;5;21;01msklearn\u001b[39;00m\u001b[38;5;21;01m.\u001b[39;00m\u001b[38;5;21;01mdatasets\u001b[39;00m \u001b[38;5;28;01mimport\u001b[39;00m load_iris\n\u001b[1;32m      2\u001b[0m \u001b[38;5;66;03m# 典型的な機械学習のデータを準備できる\u001b[39;00m\n\u001b[1;32m      3\u001b[0m iris \u001b[38;5;241m=\u001b[39m load_iris()\n",
      "\u001b[0;31mModuleNotFoundError\u001b[0m: No module named 'sklearn'"
     ]
    }
   ],
   "source": [
    "from sklearn.datasets import load_iris\n",
    "# 典型的な機械学習のデータを準備できる\n",
    "iris = load_iris()\n",
    "print(iris)\n",
    "# 辞書型配列になっている\n",
    "# dataというkeywordに，　irisの特徴量情報がnp.arrayとしてvalueに入っている．\n",
    "# targetというkeywordに， irisの種別情報がvalueに入っている．\n",
    "print(\"\")\n",
    "data = iris['data']\n",
    "print(data.shape)\n",
    "# (データ数, 特徴量次元）"
   ]
  },
  {
   "cell_type": "code",
   "execution_count": null,
   "id": "6a6fc763-a4ee-4e31-ae80-c53b999d0491",
   "metadata": {},
   "outputs": [],
   "source": [
    "from sklearn.decomposition import PCA\n",
    "pca = PCA(n_components=2)\n",
    "pca.fit(data)\n",
    "feature = pca.transform(data)\n",
    "feature.shape\n",
    "# ４次元を２次元に次元削減できた．"
   ]
  },
  {
   "cell_type": "markdown",
   "id": "68670eea-5a18-4d6e-b851-65a8b2415d81",
   "metadata": {
    "tags": []
   },
   "source": [
    "### 2.6[ライブラリの関数（オブジェクトの）の引数の確認](https://python.atelierkobato.com/help/)"
   ]
  },
  {
   "cell_type": "markdown",
   "id": "f12c7433-3528-4a5a-bd96-0c1eb7193d11",
   "metadata": {},
   "source": [
    "pythonのオブジェクトには docstring とよばれる説明文（ドキュメント）が付属していて、help()関数を使って呼び出すことができるようになっています。\n",
    "\n",
    "引数や出力の詳細が知りたい場合は以下のように呼び出すことができます．例えば，np.eyeという関数の存在は知っていたが引数は忘れていた場合．"
   ]
  },
  {
   "cell_type": "code",
   "execution_count": 10,
   "id": "ce49a179-4eec-4eeb-b165-39edee594892",
   "metadata": {
    "tags": []
   },
   "outputs": [
    {
     "name": "stdout",
     "output_type": "stream",
     "text": [
      "Help on function eye in module numpy:\n",
      "\n",
      "eye(N, M=None, k=0, dtype=<class 'float'>, order='C', *, like=None)\n",
      "    Return a 2-D array with ones on the diagonal and zeros elsewhere.\n",
      "    \n",
      "    Parameters\n",
      "    ----------\n",
      "    N : int\n",
      "      Number of rows in the output.\n",
      "    M : int, optional\n",
      "      Number of columns in the output. If None, defaults to `N`.\n",
      "    k : int, optional\n",
      "      Index of the diagonal: 0 (the default) refers to the main diagonal,\n",
      "      a positive value refers to an upper diagonal, and a negative value\n",
      "      to a lower diagonal.\n",
      "    dtype : data-type, optional\n",
      "      Data-type of the returned array.\n",
      "    order : {'C', 'F'}, optional\n",
      "        Whether the output should be stored in row-major (C-style) or\n",
      "        column-major (Fortran-style) order in memory.\n",
      "    \n",
      "        .. versionadded:: 1.14.0\n",
      "    like : array_like\n",
      "        Reference object to allow the creation of arrays which are not\n",
      "        NumPy arrays. If an array-like passed in as ``like`` supports\n",
      "        the ``__array_function__`` protocol, the result will be defined\n",
      "        by it. In this case, it ensures the creation of an array object\n",
      "        compatible with that passed in via this argument.\n",
      "    \n",
      "        .. versionadded:: 1.20.0\n",
      "    \n",
      "    Returns\n",
      "    -------\n",
      "    I : ndarray of shape (N,M)\n",
      "      An array where all elements are equal to zero, except for the `k`-th\n",
      "      diagonal, whose values are equal to one.\n",
      "    \n",
      "    See Also\n",
      "    --------\n",
      "    identity : (almost) equivalent function\n",
      "    diag : diagonal 2-D array from a 1-D array specified by the user.\n",
      "    \n",
      "    Examples\n",
      "    --------\n",
      "    >>> np.eye(2, dtype=int)\n",
      "    array([[1, 0],\n",
      "           [0, 1]])\n",
      "    >>> np.eye(3, k=1)\n",
      "    array([[0.,  1.,  0.],\n",
      "           [0.,  0.,  1.],\n",
      "           [0.,  0.,  0.]])\n",
      "\n"
     ]
    }
   ],
   "source": [
    "help(np.eye)"
   ]
  },
  {
   "cell_type": "markdown",
   "id": "b7641a04-8935-4b77-8afe-fec190b4088b",
   "metadata": {},
   "source": [
    "jupyter notebook, jupyter labでは ?という簡易記号を使ってオブジェクトの情報を可視化することができます．\n",
    "\n",
    "ちなみに，　エディター上で知りたい関数の上で Shift + Tabキーを押してもオブジェクトの情報をカーソルオーバーで表示できます．"
   ]
  },
  {
   "cell_type": "code",
   "execution_count": 11,
   "id": "8e035f9c-c450-466b-a87f-61a8694d36a3",
   "metadata": {
    "tags": []
   },
   "outputs": [
    {
     "data": {
      "text/plain": [
       "\u001b[0;31mSignature:\u001b[0m \u001b[0mnp\u001b[0m\u001b[0;34m.\u001b[0m\u001b[0meye\u001b[0m\u001b[0;34m(\u001b[0m\u001b[0mN\u001b[0m\u001b[0;34m,\u001b[0m \u001b[0mM\u001b[0m\u001b[0;34m=\u001b[0m\u001b[0;32mNone\u001b[0m\u001b[0;34m,\u001b[0m \u001b[0mk\u001b[0m\u001b[0;34m=\u001b[0m\u001b[0;36m0\u001b[0m\u001b[0;34m,\u001b[0m \u001b[0mdtype\u001b[0m\u001b[0;34m=\u001b[0m\u001b[0;34m<\u001b[0m\u001b[0;32mclass\u001b[0m \u001b[0;34m'float'\u001b[0m\u001b[0;34m>\u001b[0m\u001b[0;34m,\u001b[0m \u001b[0morder\u001b[0m\u001b[0;34m=\u001b[0m\u001b[0;34m'C'\u001b[0m\u001b[0;34m,\u001b[0m \u001b[0;34m*\u001b[0m\u001b[0;34m,\u001b[0m \u001b[0mlike\u001b[0m\u001b[0;34m=\u001b[0m\u001b[0;32mNone\u001b[0m\u001b[0;34m)\u001b[0m\u001b[0;34m\u001b[0m\u001b[0;34m\u001b[0m\u001b[0m\n",
       "\u001b[0;31mDocstring:\u001b[0m\n",
       "Return a 2-D array with ones on the diagonal and zeros elsewhere.\n",
       "\n",
       "Parameters\n",
       "----------\n",
       "N : int\n",
       "  Number of rows in the output.\n",
       "M : int, optional\n",
       "  Number of columns in the output. If None, defaults to `N`.\n",
       "k : int, optional\n",
       "  Index of the diagonal: 0 (the default) refers to the main diagonal,\n",
       "  a positive value refers to an upper diagonal, and a negative value\n",
       "  to a lower diagonal.\n",
       "dtype : data-type, optional\n",
       "  Data-type of the returned array.\n",
       "order : {'C', 'F'}, optional\n",
       "    Whether the output should be stored in row-major (C-style) or\n",
       "    column-major (Fortran-style) order in memory.\n",
       "\n",
       "    .. versionadded:: 1.14.0\n",
       "like : array_like\n",
       "    Reference object to allow the creation of arrays which are not\n",
       "    NumPy arrays. If an array-like passed in as ``like`` supports\n",
       "    the ``__array_function__`` protocol, the result will be defined\n",
       "    by it. In this case, it ensures the creation of an array object\n",
       "    compatible with that passed in via this argument.\n",
       "\n",
       "    .. versionadded:: 1.20.0\n",
       "\n",
       "Returns\n",
       "-------\n",
       "I : ndarray of shape (N,M)\n",
       "  An array where all elements are equal to zero, except for the `k`-th\n",
       "  diagonal, whose values are equal to one.\n",
       "\n",
       "See Also\n",
       "--------\n",
       "identity : (almost) equivalent function\n",
       "diag : diagonal 2-D array from a 1-D array specified by the user.\n",
       "\n",
       "Examples\n",
       "--------\n",
       ">>> np.eye(2, dtype=int)\n",
       "array([[1, 0],\n",
       "       [0, 1]])\n",
       ">>> np.eye(3, k=1)\n",
       "array([[0.,  1.,  0.],\n",
       "       [0.,  0.,  1.],\n",
       "       [0.,  0.,  0.]])\n",
       "\u001b[0;31mFile:\u001b[0m      ~/Workspace/3_month_course_2022/.venv/lib/python3.8/site-packages/numpy/lib/twodim_base.py\n",
       "\u001b[0;31mType:\u001b[0m      function\n"
      ]
     },
     "metadata": {},
     "output_type": "display_data"
    }
   ],
   "source": [
    "np.eye?"
   ]
  },
  {
   "cell_type": "markdown",
   "id": "d1024508-27f3-424b-b0d2-0ff39c29325f",
   "metadata": {},
   "source": [
    "# 3. 実装\n"
   ]
  },
  {
   "cell_type": "markdown",
   "id": "cc3fd5cd",
   "metadata": {},
   "source": [
    "### 3-0. Reshape\n",
    "さっきでてきた\n",
    "> X = np.arange(N*D).reshape(N,D)\n",
    "\n",
    "これです．\n",
    "\n",
    "[reshape](https://numpy.org/doc/stable/reference/generated/numpy.reshape.html)はデータの形（サイズ）を変更するときに使います．"
   ]
  },
  {
   "cell_type": "code",
   "execution_count": 14,
   "id": "52857b48",
   "metadata": {},
   "outputs": [],
   "source": [
    "# xxx, yyy を適当な整数に変えて実行してください\n",
    "# N, D = xxx, yyy\n",
    "N, D = 8, 2"
   ]
  },
  {
   "cell_type": "code",
   "execution_count": 17,
   "id": "74be0f46-4baa-49b3-8963-e86ad17832db",
   "metadata": {},
   "outputs": [
    {
     "name": "stdout",
     "output_type": "stream",
     "text": [
      "Xのサイズ（shape）は (16,)\n",
      "16 次元ベクトル（ 16 個の数値がある）ということです．\n"
     ]
    }
   ],
   "source": [
    "# NxD次元ベクトルを作ります．\n",
    "X = np.arange(N*D)\n",
    "print(\"Xのサイズ（shape）は\", X.shape)\n",
    "print(N*D,\"次元ベクトル（\",N*D,\"個の数値がある）ということです．\")"
   ]
  },
  {
   "cell_type": "code",
   "execution_count": 36,
   "id": "a606c217-23fe-4fa5-a482-fb58952074fc",
   "metadata": {},
   "outputs": [
    {
     "name": "stdout",
     "output_type": "stream",
     "text": [
      "中身を表示します \n",
      "\n",
      "[ 0  1  2  3  4  5  6  7  8  9 10 11 12 13 14 15]\n",
      "順列になっていますね\n",
      "このX変数のサイズを変えます。 (今、N, D = 8 , 2 です。) \n",
      "\n"
     ]
    }
   ],
   "source": [
    "print('中身を表示します', \"\\n\")\n",
    "print(X)\n",
    "print('順列になっていますね')"
   ]
  },
  {
   "cell_type": "code",
   "execution_count": 37,
   "id": "81cb977a-d0b4-45db-a994-64d19ea5d7a5",
   "metadata": {},
   "outputs": [
    {
     "name": "stdout",
     "output_type": "stream",
     "text": [
      "このX変数のサイズを変えます。 (今、N, D = 8 , 2 です。) \n",
      "\n"
     ]
    }
   ],
   "source": [
    "print(\"このX変数のサイズを変えます。 (今、N, D =\",N,\",\",D,\"です。)\", \"\\n\")"
   ]
  },
  {
   "cell_type": "code",
   "execution_count": 45,
   "id": "5880dcb3-66df-4882-bb9b-9d41246708a8",
   "metadata": {},
   "outputs": [
    {
     "name": "stdout",
     "output_type": "stream",
     "text": [
      "縦ベクトルに変えます。\n"
     ]
    },
    {
     "data": {
      "text/plain": [
       "((16, 1),\n",
       " array([[ 0],\n",
       "        [ 1],\n",
       "        [ 2],\n",
       "        [ 3],\n",
       "        [ 4],\n",
       "        [ 5],\n",
       "        [ 6],\n",
       "        [ 7],\n",
       "        [ 8],\n",
       "        [ 9],\n",
       "        [10],\n",
       "        [11],\n",
       "        [12],\n",
       "        [13],\n",
       "        [14],\n",
       "        [15]]))"
      ]
     },
     "execution_count": 45,
     "metadata": {},
     "output_type": "execute_result"
    }
   ],
   "source": [
    "print('縦ベクトルに変えます。')\n",
    "X_c = X.reshape(N*D, 1)\n",
    "X_c.shape, X_c"
   ]
  },
  {
   "cell_type": "code",
   "execution_count": 44,
   "id": "a1298cb1-aece-4efe-b0c2-864fe4fda56a",
   "metadata": {},
   "outputs": [
    {
     "name": "stdout",
     "output_type": "stream",
     "text": [
      "横ベクトルに変えます。\n"
     ]
    },
    {
     "data": {
      "text/plain": [
       "((1, 16),\n",
       " array([[ 0,  1,  2,  3,  4,  5,  6,  7,  8,  9, 10, 11, 12, 13, 14, 15]]))"
      ]
     },
     "execution_count": 44,
     "metadata": {},
     "output_type": "execute_result"
    }
   ],
   "source": [
    "print('横ベクトルに変えます。')\n",
    "X_r = X.reshape(1, N*D)\n",
    "X_r.shape, X_r"
   ]
  },
  {
   "cell_type": "markdown",
   "id": "f7efc3b5-daf4-4e38-b063-80903dc9ba3f",
   "metadata": {},
   "source": [
    "行列計算をプログラムで実装する時のコツの１つで、ただのベクトルを使わないというのがあります。\n",
    "必ず、縦ベクトル, 横ベクトルに偏諱するようにしましょう。。\n",
    "それは、Broadcast（後述）のため、数式をちゃんと実装するため等々・・・です。"
   ]
  },
  {
   "cell_type": "code",
   "execution_count": 47,
   "id": "861aeb07-6ee8-4b37-9bc3-1d1a83af5ab5",
   "metadata": {},
   "outputs": [
    {
     "name": "stdout",
     "output_type": "stream",
     "text": [
      "X.reshape(N,D)とすると (8, 2) の行列になります。中身を表示すると次のようになります\n"
     ]
    },
    {
     "data": {
      "text/plain": [
       "array([[ 0,  1],\n",
       "       [ 2,  3],\n",
       "       [ 4,  5],\n",
       "       [ 6,  7],\n",
       "       [ 8,  9],\n",
       "       [10, 11],\n",
       "       [12, 13],\n",
       "       [14, 15]])"
      ]
     },
     "execution_count": 47,
     "metadata": {},
     "output_type": "execute_result"
    }
   ],
   "source": [
    "X_m = X.reshape(N,D)\n",
    "      \n",
    "print(\"X.reshape(N,D)とすると\", X_m.shape,\"の行列になります。中身を表示すると次のようになります\")\n",
    "X_m"
   ]
  },
  {
   "cell_type": "code",
   "execution_count": 53,
   "id": "10e1ec58",
   "metadata": {},
   "outputs": [
    {
     "name": "stdout",
     "output_type": "stream",
     "text": [
      "また，逆にベクトルに戻すには以下のようにします． \n",
      "\n",
      "X_m.reshape(-1) [ 0  1  2  3  4  5  6  7  8  9 10 11 12 13 14 15]\n",
      "\n",
      " 2次元配列を2-1=1次元配列にするというイメージです．\n"
     ]
    }
   ],
   "source": [
    "print(\"また，逆にベクトルに戻すには以下のようにします．\", \"\\n\")\n",
    "\n",
    "print('X_m.reshape(-1)', X_m.reshape(-1))\n",
    "\n",
    "print(\"\\n 2次元配列を2-1=1次元配列にするというイメージです．\")"
   ]
  },
  {
   "cell_type": "markdown",
   "id": "c5e49598",
   "metadata": {},
   "source": [
    "#### 演習問題0\n",
    "以上の操作を任意の行列で実践せよ．"
   ]
  },
  {
   "cell_type": "code",
   "execution_count": null,
   "id": "e2c40efd",
   "metadata": {},
   "outputs": [],
   "source": []
  },
  {
   "cell_type": "markdown",
   "id": "41c26da1",
   "metadata": {},
   "source": [
    "### 3-1. Broadcast\n",
    "詳しい定義は[上島さんの解説記事](https://www.kamishima.net/mlmpyja/nbayes2/broadcasting.html).\n",
    "使い方やイメージが欲しいなら[ここ](https://deepage.net/features/numpy-broadcasting.html)."
   ]
  },
  {
   "cell_type": "code",
   "execution_count": null,
   "id": "5e849668",
   "metadata": {},
   "outputs": [],
   "source": [
    "I = 3\n",
    "J = 4\n",
    "A = np.arange(I)[:, None] + 1\n",
    "print(\"Aのshapeは\",A.shape,\" で，A自体は\",'\\n',A, \"\\n\")\n",
    "B = np.arange(I*J).reshape(I,J)\n",
    "print(\"Bのshapeは\",B.shape,\" で，B自体は\",'\\n', B, \"\\n\")\n",
    "\n",
    "print(\"この行列A,Bに対して B-A という演算をすると\",\"\\n\", B - A,\"となる\")\n",
    "\n",
    "# B - A"
   ]
  },
  {
   "cell_type": "markdown",
   "id": "74b57aab",
   "metadata": {},
   "source": [
    "行列演算はシェイプが違う行列同士の演算は定義されていない（というかできない）が， Broadcastをサポートしているライブラリではある条件を満たした場合特殊な演算ができる（されてしまう）．\n",
    "\n",
    "今回のケース:\n",
    "A行列(shape:(3,1))とB行列(shape:(3,4))はshapeが違うので演算できない． \n",
    "Broadcastでは， A行列(3,1)を列方向にコピーしてA_hat(3,4)の行列を作ってB - A_hatの演算をおこなう．"
   ]
  },
  {
   "cell_type": "code",
   "execution_count": null,
   "id": "6c449734",
   "metadata": {},
   "outputs": [],
   "source": [
    "print(\"具体的には 以下のような演算をする\")\n",
    "A_hat = np.tile(A, J)\n",
    "print(\"A_hat:\",\"\\n\",A_hat)\n",
    "print(\"B - A_hat:\", \"\\n\", B - A_hat,\"\\n\", \"先ほどの B-Aの演算と一致する．\")"
   ]
  },
  {
   "cell_type": "markdown",
   "id": "473dc7fc",
   "metadata": {},
   "source": [
    "#### 演習問題1-a \n",
    "列方向のコピーではなく，行方向のコピーが行われるBroadcastの計算を実装せよ． (任意の四則演算）"
   ]
  },
  {
   "cell_type": "code",
   "execution_count": null,
   "id": "c4d7fb1c",
   "metadata": {},
   "outputs": [],
   "source": []
  },
  {
   "cell_type": "markdown",
   "id": "bcf56b9f",
   "metadata": {},
   "source": [
    "#### 演習問題1-b \n",
    "先ほどは行列(shapeが(I, J)のような変数）に対しての演算であった．3階のテンソルの変数（shapeが （I,J,K））に対して，任意のBroadcastの計算を実装せよ．"
   ]
  },
  {
   "cell_type": "code",
   "execution_count": null,
   "id": "1ed8dff9",
   "metadata": {},
   "outputs": [],
   "source": []
  },
  {
   "cell_type": "markdown",
   "id": "ef8ace9b",
   "metadata": {},
   "source": [
    "### 3-2. Meshgrid\n",
    "\n",
    "[Meshgrid](https://numpy.org/doc/stable/reference/generated/numpy.meshgrid.html)は，座標ベクトルを入力すると座標行列を返してくれる関数です．\n",
    "\n",
    "以下のような軸をx,y軸を想定して，そこにそれぞれ等間隔に点が打たれているとします．"
   ]
  },
  {
   "cell_type": "code",
   "execution_count": null,
   "id": "d9f94400",
   "metadata": {},
   "outputs": [],
   "source": [
    "K = 11\n",
    "A = np.linspace(-1,1,K)\n",
    "B = np.linspace(-2,2,K)\n",
    "plt.plot([A[-1], A[0]], [0,0], color='black', alpha=0.4)\n",
    "plt.plot([0,0],[B[-1], B[0]], color='black', alpha=0.4)\n",
    "plt.scatter(A,np.zeros(A.shape), color='orange', marker='x')\n",
    "plt.scatter(np.zeros(B.shape),B, color='g', marker='x')"
   ]
  },
  {
   "cell_type": "markdown",
   "id": "8a3d691e",
   "metadata": {},
   "source": [
    "この点からそれぞれ垂直線をひくと以下の図のようなグリッドが描くことができます．\n",
    "\n",
    "meshgrid関数は以下のような図の格子点(交わっているところ）の座標を取得したいときに使われる関数です．"
   ]
  },
  {
   "cell_type": "code",
   "execution_count": null,
   "id": "f065410b",
   "metadata": {},
   "outputs": [],
   "source": [
    "plt.scatter(A,np.zeros(A.shape), color='orange', marker='x')\n",
    "plt.scatter(np.zeros(B.shape),B, color='g', marker='x')\n",
    "[plt.plot(np.tile(A[i],K), B, color='orange') for i in range(K)]\n",
    "[plt.plot(A, np.tile(B[i], K),  color='g') for i in range(K)]\n",
    "print(\"この緑線とオレンジ線の交点の座標を求めます\")"
   ]
  },
  {
   "cell_type": "code",
   "execution_count": null,
   "id": "a21288c7",
   "metadata": {},
   "outputs": [],
   "source": [
    "XX, YY = np.meshgrid(A,B)\n",
    "\n",
    "print(\"二つのベクトルを入力すると二つの行列が返ってきます．\")\n",
    "print(\"XXのshapeは\", XX.shape, 'YYのshapeは', YY.shape, \"となる\")\n",
    "print(\"XX\")\n",
    "print(XX)\n",
    "print(\"YY\")\n",
    "print(YY)"
   ]
  },
  {
   "cell_type": "markdown",
   "id": "d9e64985-8f69-4670-91af-01a3401f6dbe",
   "metadata": {},
   "source": [
    "$XX_{ij}$にはx=i,y=-jの交点のx座標が， $YY_{ij}$にはx=i,y=-jの交点のy座標が格納されている，\n",
    "言い換えると， x=i, y=-jの交点の座標は$( XX_{ij}, YY_{ij} )$ です．\n",
    "\n",
    "meshgridを使うと，交点の座標の数値は得られました．ここからは使いやすい形に二つの行列を整形します．\n",
    "使いやすい形とはいわゆるデータ行列のような(交点の数， 次元数）というような二次元配列です．つまり，\n",
    "\n",
    "$M = \\\\\n",
    "[(XX_{11}, YY_{11}),\\\\(XX_{12}, YY_{12}), \\\\(XX_{13}, YY_{13}), \\\\ \\cdots, \\\\(XX_{KK}, YY_{KK)}] $\n",
    "\n",
    "のような \n",
    "$\\mathbf{R}^{(K*K)\\times 2} = \\mathbf{R}^{(P \\times 2)} , P = K*K$の二次元行列$M$に整形します．\n",
    "言い換えると，$M = ( \\mathbf{m_p} )_{p=1}^{P}, \\mathbf{m} \\in \\mathbb{R}^2$となります． \n",
    "\n",
    "\n",
    "まず，XXとYYは (K, K)のような二次元配列である必要ではないので， reshapeを使ってKxKの行列をM次元ベクトルに直します． \n",
    "次に， 1次元ベクトルxxとyyを横方向に結合するために， reshapeされた xx, yyを(M, 1)の行列に整形して，concatenateします．"
   ]
  },
  {
   "cell_type": "code",
   "execution_count": null,
   "id": "7eb43309",
   "metadata": {},
   "outputs": [],
   "source": [
    "xx = XX.reshape(-1)\n",
    "yy = YY.reshape(-1)\n",
    "M = np.concatenate([xx[:, None], yy[:, None]], axis=1)\n",
    "M.shape"
   ]
  },
  {
   "cell_type": "code",
   "execution_count": null,
   "id": "914edf39",
   "metadata": {},
   "outputs": [],
   "source": [
    "plt.scatter(A,np.zeros(A.shape), color='orange', marker='x')\n",
    "plt.scatter(np.zeros(B.shape),B, color='g', marker='x')\n",
    "plt.scatter(M[:, 0], M[:, 1], alpha=0.4, marker='D')"
   ]
  },
  {
   "cell_type": "markdown",
   "id": "2089e2a7",
   "metadata": {},
   "source": [
    "格子点行列Mができました．"
   ]
  },
  {
   "cell_type": "markdown",
   "id": "1089878c",
   "metadata": {},
   "source": [
    "#### 演習問題2\n",
    "\n",
    "以上の操作を任意のベクトルの格子点で実践せよ"
   ]
  },
  {
   "cell_type": "code",
   "execution_count": null,
   "id": "c26284b7",
   "metadata": {},
   "outputs": [],
   "source": []
  },
  {
   "cell_type": "markdown",
   "id": "51afb4cc",
   "metadata": {},
   "source": [
    "### 3-3. Argmin, Argmax\n",
    "\n",
    ">数学において、最大値を与える引数あるいは最大点集合 (argument of the maximum) は関数がその最大値をとる定義域の元全体の成す集合である[note 1]。省略してarg max (もしくは argmax) と書かれる。最大値が函数の出力のうち最も大きいものを指すのと対照に、最大点は最大値を出力する入力の値を指す。\n",
    "最大点集合は一般に複数の元を含むが、それは有限集合であることも無限集合であることも起こり得るし、空となることもあり得る。"
   ]
  },
  {
   "cell_type": "markdown",
   "id": "f36b5da0",
   "metadata": {},
   "source": [
    "上が一応定義ですがとりあえず以下の例をみながら理解していきましょう．\n",
    "\n",
    "例えば，先ほどのような格子点は以下のようなインデックスを持つ．"
   ]
  },
  {
   "cell_type": "code",
   "execution_count": null,
   "id": "a1a379fb",
   "metadata": {},
   "outputs": [],
   "source": [
    "plt.scatter(M[:, 0], M[:, 1], alpha=0.4, marker='D')\n",
    "[plt.text(M[n, 0], M[n, 1], str(n)) for n in range(K*K)]\n",
    "print(\"\")"
   ]
  },
  {
   "cell_type": "markdown",
   "id": "d4c9aa4c",
   "metadata": {},
   "source": [
    "さらに，この空間に以下のような新規点$\\mathbf{x}_n$ができたとします．"
   ]
  },
  {
   "cell_type": "code",
   "execution_count": null,
   "id": "34ae2b75",
   "metadata": {},
   "outputs": [],
   "source": [
    "np.random.seed(6)\n",
    "x = np.random.rand(2).reshape(1,2)\n",
    "\n",
    "plt.scatter(M[:, 0], M[:, 1], alpha=0.4, marker='D')\n",
    "plt.scatter(x[:, 0], x[:, 1], s=80, color='g', marker='x', label='$\\mathbf{x}_n$', linewidths=4)\n",
    "plt.legend()\n",
    "# plt.text(X[:, 0]+0.05, X[:, 1], \"$\\mathbf{x}^*$\", color='g', size=25)"
   ]
  },
  {
   "cell_type": "markdown",
   "id": "b18c4d65",
   "metadata": {},
   "source": [
    "$\\newcommand{\\argmax}{\\mathop{\\rm arg~max}\\limits}$\n",
    "$\\newcommand{\\argmin}{\\mathop{\\rm arg~min}\\limits}$\n",
    "\n",
    "ここでは， $\\mathbf{x}_n$とそれに一番近い$\\mathbf{m}_{k^*_n}$の点を求めます． \n",
    "${k^*_n}$は$n$番目のデータに対して一番近い$\\mathbf{m}$のインデックスで勝者ノード番号とも呼ばれます（格子点の節のインデックス（番号）なのでノード番号とも呼ばれる）．\n",
    "離散点はずっと固定なので，この勝者ノード番号を求めれば，一番近い点を求めたことになります．\n",
    "\n",
    "この操作はを数式で書くと，\n",
    "$k^*_n = \\argmin_k D(\\mathbf{x}_n, \\mathbf{m}_k)$\n",
    "\n",
    "$D(\\mathbf{a},\\mathbf{b})$は$\\mathbf{a}$と$\\mathbf{b}$の距離を返す関数で， $D(\\mathbf{a},\\mathbf{b})=\\|\\mathbf{a} - \\mathbf{b} \\|^2$とすると，\n",
    "\n",
    "$k^*_n = \\argmin_k \\|\\mathbf{x}_n - \\mathbf{m}_k\\|^2$ となります．\n"
   ]
  },
  {
   "cell_type": "code",
   "execution_count": null,
   "id": "264e889b",
   "metadata": {},
   "outputs": [],
   "source": [
    "print(x.shape, M.shape)\n",
    "Dist = np.sum((x[:, None, :] - M[None, :, :])**2, axis=2)\n",
    "print(Dist.shape)\n",
    "\n",
    "k_star = np.argmin(Dist)\n",
    "\n",
    "k_star"
   ]
  },
  {
   "cell_type": "markdown",
   "id": "c0c46824",
   "metadata": {},
   "source": [
    "データ$\\mathbf{x}_n$に対応する勝者ノード番号は 75でした．\n",
    "\n",
    "なので$\\mathbf{x}_n$に対応する座標を$\\mathbf{z}_n$とおくと\n",
    "\n",
    "$\\mathbf{z}_n := \\mathbf{m}_{75}$\n",
    "\n",
    "ということです"
   ]
  },
  {
   "cell_type": "code",
   "execution_count": null,
   "id": "4c4e3155",
   "metadata": {},
   "outputs": [],
   "source": [
    "plt.scatter(M[:, 0], M[:, 1], alpha=0.4, marker='D', s=10)\n",
    "\n",
    "z_n = M[k_star] \n",
    "plt.text(z_n[0], z_n[1], str(k_star), fontsize=13) \n",
    "# plt.text(M[k_star, 0], M[k_star, 1], str(k_star), fontsize=13) \n",
    "\n",
    "plt.scatter(z_n[0], z_n[1],  marker='D', s=40, color='g')\n",
    "plt.scatter(x[:, 0], x[:, 1], s=40, color='g', marker='x', label='$\\mathbf{x}_n$', linewidths=2)\n",
    "print(\"\")"
   ]
  },
  {
   "cell_type": "markdown",
   "id": "a71b95ca",
   "metadata": {},
   "source": [
    "データに一番近い格子点のインデックスが表示され，データと同じ色に着色されているのが確認できたと思います．\n",
    "\n",
    "\n",
    "では次にデータ１点ではなく，N点で考えます．\n",
    "データ集合$X = \\{ \\mathbf{x}_n\\}_{n=1}^N$は以下のように生成されます．"
   ]
  },
  {
   "cell_type": "code",
   "execution_count": null,
   "id": "0a9fe2a7",
   "metadata": {},
   "outputs": [],
   "source": [
    "N = 9\n",
    "X = np.random.rand(N*2).reshape(N,2)\n",
    "cmap = plt.get_cmap(\"tab10\") \n",
    "\n",
    "plt.scatter(M[:, 0], M[:, 1], alpha=0.4, marker='D', s=10)\n",
    "for n in range(N):\n",
    "    plt.scatter(X[n, 0], X[n, 1], color=cmap(n), s=50, marker='x', linewidths=2)"
   ]
  },
  {
   "cell_type": "markdown",
   "id": "af287a49",
   "metadata": {},
   "source": [
    "データ集合$X$に対応する勝者ノード集合$K^* = \\{ k_n^*\\}_{n=1}^N$は以下のように求めます．"
   ]
  },
  {
   "cell_type": "code",
   "execution_count": null,
   "id": "2a8ab03a",
   "metadata": {},
   "outputs": [],
   "source": [
    "print(X.shape, M.shape)\n",
    "Dist = np.sum((X[:, None, :] - M[None, :, :])**2, axis=2)\n",
    "print(Dist.shape)\n",
    "\n",
    "K_star = np.argmin(Dist, axis=1)\n",
    "K_star"
   ]
  },
  {
   "cell_type": "markdown",
   "id": "b0cfe0e6",
   "metadata": {},
   "source": [
    "さらに，勝者ノード集合を用いて，データ集合$X$に対応するノード集合$Z = \\{ \\mathbf{m}_{k_n^*}\\}_{n=1}^N$は描画します．"
   ]
  },
  {
   "cell_type": "code",
   "execution_count": null,
   "id": "3d58838b",
   "metadata": {},
   "outputs": [],
   "source": [
    "plt.scatter(M[:, 0], M[:, 1], alpha=0.4, marker='D', s=10)\n",
    "for n in range(N):\n",
    "    plt.scatter(X[n, 0], X[n, 1], color=cmap(n), s=50, marker='x', linewidths=2)\n",
    "    \n",
    "    z_n = M[K_star[n]]\n",
    "    \n",
    "    plt.scatter(z_n[0], z_n[1], marker='D', s=40, color=cmap(n))\n",
    "    # plt.scatter(M[K_star[n], 0], M[K_star[n], 1], marker='D', s=40, color=cmap(n))"
   ]
  },
  {
   "cell_type": "markdown",
   "id": "418122ca",
   "metadata": {},
   "source": [
    "データに一番近いノードはそのデータの色になっていることがわかります（勝者ノードが重複している場合は上書きされる）"
   ]
  },
  {
   "cell_type": "markdown",
   "id": "4f5a09f5-14dc-44c7-90bf-2c286c43f2ee",
   "metadata": {},
   "source": [
    "#### 演習問題3\n",
    "\n",
    "3-1 seed値やデータ数を変えて経過を観察せよ"
   ]
  },
  {
   "cell_type": "markdown",
   "id": "5dd160a9",
   "metadata": {},
   "source": [
    "### 3-4. Fancy index"
   ]
  },
  {
   "cell_type": "markdown",
   "id": "1bf7a7ba",
   "metadata": {},
   "source": [
    "先ほど，データ集合$X$に対応するノード集合$Z$を求めるのにfor文を用いて実装した\n",
    "\n",
    "つまり，\n",
    "\n",
    "$\\forall n, \\mathbf{z}_n := \\mathbf{m}_{k_n^*}$\n",
    "\n",
    "`for n in range(N):`\n",
    "\n",
    "`    z_n = M[K_ster[n]]`\n",
    "\n",
    "とした．\n",
    "\n",
    "これをfor文を使わないで実装するときに用いるのが Fancy Indexである．\n",
    "\n",
    "イメージとしては以下になる（こんな数式はない）．\n",
    "\n",
    "$Z = M[K^*]$"
   ]
  },
  {
   "cell_type": "code",
   "execution_count": null,
   "id": "31556465",
   "metadata": {},
   "outputs": [],
   "source": [
    "Z = M[K_star]\n",
    "Z, Z.shape, M[0:11,:], M.shape, K_star, len(K_star)"
   ]
  },
  {
   "cell_type": "markdown",
   "id": "f478bea8-b16a-4256-b730-25aea1d7b37b",
   "metadata": {},
   "source": [
    "#### 演習問題4\n",
    "\n",
    " なし（いいのがあったら追加してください）"
   ]
  },
  {
   "cell_type": "markdown",
   "id": "24ff7cd8",
   "metadata": {},
   "source": [
    "### 3-5. [Einsum](https://numpy.org/doc/stable/reference/generated/numpy.einsum.html)\n",
    "\n",
    "Einsumはさまざまな行列計算を einsum記法というのを使って実装することができます．私たちの研究室では主にテンソル積（行列積の一般系）を実装するときに使うので，主にその機能だけ紹介します．\n",
    "\n",
    "Einsumについての導入のドキュメントは[こちら(大規模テンソルデータに適用可能なeinsumの開発)](https://www.slideshare.net/antiplastics/einsum)をお勧めします。\n",
    "\n"
   ]
  },
  {
   "cell_type": "markdown",
   "id": "eeed0a32-9b95-4d41-89ad-46642546f536",
   "metadata": {},
   "source": [
    "#### 5.1 行列積\n",
    "\n",
    "$ y_{ij} = \\sum_k h_{ik} * g_{kj}$ という行列積の計算をしたいとします．"
   ]
  },
  {
   "cell_type": "code",
   "execution_count": null,
   "id": "0429ba2b-0297-41d4-bc25-a35f3f8d61b3",
   "metadata": {},
   "outputs": [],
   "source": [
    "H = np.random.rand(12).reshape(4, 3)\n",
    "G = np.random.rand(6).reshape(3, 2)\n",
    "Y_at = H @ G"
   ]
  },
  {
   "cell_type": "markdown",
   "id": "2bd5777d-fc14-414e-988f-b000b67496de",
   "metadata": {},
   "source": [
    "通常考えられる実装が以上ですが，einsumで書くとこうです.\n",
    "\n",
    "まずStringで入力変数がそれぞれどのようなshapeかを書き，その後 '->'の後に， 出力する変数のshapeを書きます．"
   ]
  },
  {
   "cell_type": "code",
   "execution_count": null,
   "id": "969f947d-3dab-46b5-bd47-99ba76dddc03",
   "metadata": {},
   "outputs": [],
   "source": [
    "Y_ein = np.einsum('IK, KJ -> IJ', H, G)\n",
    "print(np.allclose(Y_at, Y_ein))"
   ]
  },
  {
   "cell_type": "markdown",
   "id": "ac4d4bfa-cb34-466c-98db-1ab9b8d19930",
   "metadata": {},
   "source": [
    "Trueとなっていると，同じものが出力できています．\n",
    "\n",
    "これだと， @ が使えるのでメリットを感じませんが，\n",
    "\n",
    "この場合はどうでしょう．\n",
    "$ y_{ij} = \\sum_k h_{ik} * $ **$g_{jk}$**"
   ]
  },
  {
   "cell_type": "code",
   "execution_count": null,
   "id": "8c177e9b-4ce9-439c-b2c4-f5b86187309b",
   "metadata": {},
   "outputs": [],
   "source": [
    "H = np.random.rand(12).reshape(4, 3)\n",
    "G = np.random.rand(6).reshape(2, 3)"
   ]
  },
  {
   "cell_type": "markdown",
   "id": "b266df01-b960-49c5-b2db-aed4d0292fd7",
   "metadata": {},
   "source": [
    "この場合 @ を使うには転置が必要です．"
   ]
  },
  {
   "cell_type": "code",
   "execution_count": null,
   "id": "3bed1e54-3313-4372-8e3c-c1d646a81e08",
   "metadata": {},
   "outputs": [],
   "source": [
    "Y_at = H @ G.T"
   ]
  },
  {
   "cell_type": "markdown",
   "id": "c3e05bde-951c-4198-bf52-cdc7013e2bc0",
   "metadata": {},
   "source": [
    "#### 5.2 テンソル積\n",
    "テンソル積とは例えば，以下のようなテンソルのある軸に対して行列積のような計算をすることです．￥\n",
    "\n",
    "$ y_{ijk} = \\sum_l \\sum_m   h_{ikl} * g_{klm} * f_{jkm}$\n",
    "\n",
    "この場合はもはや行列積を使って，単的な実装をすることは不可能です． そこで使えるのがeinsumです．"
   ]
  },
  {
   "cell_type": "code",
   "execution_count": 7,
   "id": "e53770ac-2fa8-4210-8ae6-6d991c391e35",
   "metadata": {},
   "outputs": [
    {
     "data": {
      "text/plain": [
       "(2, 3, 4)"
      ]
     },
     "execution_count": 7,
     "metadata": {},
     "output_type": "execute_result"
    }
   ],
   "source": [
    "I, J, K = 2, 3, 4\n",
    "L, M = 4, 6\n",
    "H = np.random.rand(I * K * L).reshape(I, K, L)\n",
    "G = np.random.rand(K * L * M).reshape(K, L, M)\n",
    "F = np.random.rand(J * K * M).reshape(J, K, M)\n",
    "\n",
    "Y_ein = np.einsum('IKL, KLM, JKM -> IJK', H, G, F)\n",
    "Y_ein.shape"
   ]
  },
  {
   "cell_type": "markdown",
   "id": "08dd9b51-b9e0-419f-9c58-f157b2c2a1a7",
   "metadata": {},
   "source": [
    "#### 演習問題5\n",
    "\n",
    "5-1 for文で上に出てきた数式を実装せよ\n",
    "\n",
    "5-2（Ex） 行列積以外のeinsumの機能を調べよ"
   ]
  },
  {
   "cell_type": "code",
   "execution_count": 8,
   "id": "ef088b81-70a9-458c-b96d-88160a34314e",
   "metadata": {},
   "outputs": [
    {
     "data": {
      "text/plain": [
       "True"
      ]
     },
     "execution_count": 8,
     "metadata": {},
     "output_type": "execute_result"
    }
   ],
   "source": [
    "I, J, K = 2, 3, 4\n",
    "L, M = 4, 6\n",
    "# H = np.random.rand(I * K * L).reshape(I, K, L)\n",
    "# G = np.random.rand(K * L * M).reshape(K, L, M)\n",
    "# F = np.random.rand(J * K * M).reshape(J, K, M)\n",
    "Y = np.zeros((I, J, K))\n",
    "\n",
    "for i in range(I):\n",
    "    for j in range(J):\n",
    "        for k in range(K):\n",
    "            for l in range(L):\n",
    "                for m in range(M):\n",
    "                    Y[i, j, k] += H[i, k ,l]* G[k, l, m]* F[j, k, m] \n",
    "                    \n",
    "np.allclose(Y, Y_ein)\n",
    "                    "
   ]
  },
  {
   "cell_type": "markdown",
   "id": "d3b62176-78ad-4ae4-b6f3-a0b74da9f8f3",
   "metadata": {},
   "source": [
    "**注意点**\n",
    "1. numpyのeinsumはoptimizeのオプション引数があり，optimize=Trueとすると，速度が速くなるが，使わない場合はかなり実行速度が遅くなる. pytorchにもeinsumの機能はあるが，optimizeがないため遅い．必要な箇所だけeinsumを使うべき\n",
    "\n",
    "2. 上の例では K, Lが同じ数字になっているため，同じ文字を使った方がいいと思うかもしれないが，計算の仕方が変わるため，必ずまとめたい軸に対してのみ同じ文字を使うようにしてください．\n",
    "> Y_ein = np.einsum('ILL, LLM, JLM -> IJL', H, G, F)\n",
    "\n",
    "このように書くと全く別の演算になってしまう．"
   ]
  },
  {
   "cell_type": "markdown",
   "id": "022d06f9-3351-4d84-8226-9161d4138b45",
   "metadata": {},
   "source": [
    "### 6. Jax\n",
    "自動微分機能を主に使います．\n",
    "\n",
    "例えば以下のように$\\mathbf{x}$を入力とする目的関数があるとします．\n",
    "\n",
    "$ E(\\mathbf{x}) = \\mathbf{x}^T A \\mathbf{x} $\n",
    "\n",
    "特に, Aが単位行列の時\n",
    "$ E(\\mathbf{x}) = x_1^2 + x_2^2$ です．\n",
    "\n",
    "このような目的関数を最小にするような$\\mathbf{x}$を求めるときに使われる一つのやり方が勾配法です．今回は勾配法の一番シンプルな方法．最急降下法を実装します．\n",
    "\n",
    "#### 最急降下法\n",
    "\n",
    "勾配法は $n$次ベクトル $\\mathbf{x} = (x_1,x_2,...,x_n)$を引数とする目的関数 $f(\\mathbf{x})$ の極値を求める手法の一つである.\n",
    "\n",
    "反復法, 学習を繰り返して $\\mathbf{x}$を更新する.\n",
    "$t$時刻目の学習の解が$\\mathbf{x}^{(t)}$であるとき, 最急降下法では次のように値を更新する.\n",
    "\n",
    "$\\mathbf{x}^{(t+1)} = \\mathbf{x}^{(t)}-\\eta \\frac{dE\\left(\\mathbf{x}^{(t)}\\right) }{d\\mathbf{x}^{(t)}} $\n",
    "\n",
    "ここで$\\eta$はステップ幅である. ステップ幅が大きくなると更新量は大きくなるが発散の恐れがある. 逆にステップ幅が小さすぎると学習は遅れてしまう."
   ]
  },
  {
   "cell_type": "code",
   "execution_count": null,
   "id": "43a24ee8-36e0-4c37-85eb-451e495cd996",
   "metadata": {},
   "outputs": [],
   "source": [
    "x = jnp.array([2.0,2.0])\n",
    "A = jnp.array([[1.0,0.0],[0.0,1.0]])\n",
    "\n",
    "def E(x, A): # 目的関数を計算するメソッド\n",
    "    Error = jnp.einsum(\"i,ij,j\",x,A,x)\n",
    "    return Error\n",
    "\n",
    "eta = 0.01\n",
    "n_epoch = 50\n",
    "\n",
    "history ={} # 値保存用変数\n",
    "history['x1'], history['x2'], history['E'] = np.zeros((n_epoch)), np.zeros((n_epoch)), np.zeros((n_epoch))\n",
    "\n",
    "for epoch in range(n_epoch):\n",
    "    history['x1'][epoch] = x[0] # 現epochの値を格納\n",
    "    history['x2'][epoch] = x[1] # 現epochの値を格納\n",
    "    history['E'][epoch] = E(x, A) # 現epochの値を格納\n",
    "\n",
    "    dEdx = jax.grad(E, argnums=0)(x, A) # 勾配を計算\n",
    "    x = x - eta * dEdx # 勾配を使って値を更新"
   ]
  },
  {
   "cell_type": "markdown",
   "id": "b66db1d1-6f91-4cd3-bdb2-87c0bcb2fdf1",
   "metadata": {},
   "source": [
    "epochごとに，目的関数の値が減少していくかを確認します．"
   ]
  },
  {
   "cell_type": "code",
   "execution_count": null,
   "id": "ab57fd8f-7365-44b9-ae3a-5995f8842768",
   "metadata": {},
   "outputs": [],
   "source": [
    "fig = plt.figure()\n",
    "plt.xlabel('epoch')\n",
    "plt.ylabel('E')\n",
    "plt.scatter(range(len(history['E'])), history['E'], s=3)"
   ]
  },
  {
   "cell_type": "markdown",
   "id": "0003c9a7-c40f-4ccc-b550-1b7aa86df103",
   "metadata": {},
   "source": [
    "次に，どういうエネルギー曲面になっているかを描画してみましょう(実行に数分かかる場合があります）"
   ]
  },
  {
   "cell_type": "code",
   "execution_count": null,
   "id": "5c38941a-db2b-4a14-a633-799541ffdcc0",
   "metadata": {},
   "outputs": [],
   "source": [
    "# 描画ようのメソッド\n",
    "x = np.arange(-2, 2, 0.05) # x点として[-2, 2]まで0.05刻みでサンプル\n",
    "y = np.arange(-2, 2, 0.05)  # y点として[-2, 2]まで0.05刻みでサンプル\n",
    "x, y = np.meshgrid(x, y)  # 上述のサンプリング点(x,y)を使ったメッシュ生成\n",
    "z = (x**2 + y**2)  # (x^2+y^2))  を計算してzz座標へ格納する。\n",
    "   \n",
    "fig = plt.figure()\n",
    "ax = fig.add_subplot(1, 1, 1, projection='3d')\n",
    "import matplotlib.cm as cm\n",
    "\n",
    "def init():\n",
    "    return fig,\n",
    "\n",
    "def animate(i):\n",
    "    plt.cla()\n",
    "    ax.set_xlabel('X1')\n",
    "    ax.set_ylabel('X2')\n",
    "    ax.set_zlabel('E(X)')\n",
    "    # ax.view_init(elev=30., azim=3.6*-i) # 回したいとき\n",
    "    # ax.view_init(elev=0.,azim=3.6*35) # 勾配みたいとき\n",
    "    ax.plot_wireframe(x, y, z, color='blue',linewidth=0.3, alpha=0.4)\n",
    "    \n",
    "    for j in range(i):\n",
    "        ax.scatter(history['x1'][j],history['x2'][j],history['E'][j], color=cm.Wistia(j/i))\n",
    "    ax.scatter(history['x1'][i],history['x2'][i],history['E'][i], color='k',marker='x')\n",
    "    return fig,\n",
    "\n",
    "ani = animation.FuncAnimation(fig, animate, init_func=init,\n",
    "                               frames=n_epoch, interval=100, blit=True)   \n",
    "# ani.save('anim_roll.gif', writer=\"imagemagick\")\n",
    "\n",
    "HTML(ani.to_jshtml())\n",
    "# ani"
   ]
  },
  {
   "cell_type": "markdown",
   "id": "ef33608b-7e41-4ee6-a9ef-ce1a376fd023",
   "metadata": {},
   "source": [
    "#### 演習問題6\n",
    "\n",
    "3-1 $\\mathbf{x}$の初期値を変えて経過を観察せよ\n",
    "\n",
    "3-2 $A$ の値を変えて経過を観察せよ\n",
    "\n",
    "3-3 $\\eta$ の値を変えて経過を観察せよ"
   ]
  },
  {
   "cell_type": "code",
   "execution_count": null,
   "id": "8eb32d83-1896-4784-90c4-5cad51943906",
   "metadata": {},
   "outputs": [],
   "source": []
  },
  {
   "cell_type": "markdown",
   "id": "e929d595",
   "metadata": {},
   "source": [
    "## 4. 実装\n",
    "ここでは，上で得た知識を使って様々な計算を実装していく"
   ]
  },
  {
   "cell_type": "markdown",
   "id": "679e2b39",
   "metadata": {},
   "source": [
    "### I.距離行列\n"
   ]
  },
  {
   "cell_type": "markdown",
   "id": "a52bb371",
   "metadata": {},
   "source": [
    "#### I.a 一次元空間\n",
    "データ$A=\\{a_n\\}_{n=1}^N$と構造$B=\\{b_k\\}_{k=1}^K$の要素の間の距離を測れ．\n",
    "\n",
    "つまり， $D_{ij} = Dist(a_i, b_j)$ のような距離行列(N x K)を求めよ．\n",
    "\n",
    "*$Dist(a,b)$は$a,b$を入力として実数を返す距離関数．ここでは任意の距離関数を用いて良い．"
   ]
  },
  {
   "cell_type": "code",
   "execution_count": null,
   "id": "d8807ccc",
   "metadata": {},
   "outputs": [],
   "source": [
    "N, K = 5, 10\n",
    "A = np.random.randn(N)\n",
    "B = np.linspace(-1,1, K)\n",
    "plt.scatter(A, np.zeros(len(A)), color='r', marker='x')\n",
    "plt.scatter(B, np.zeros(len(B)), color='b')"
   ]
  },
  {
   "cell_type": "code",
   "execution_count": null,
   "id": "5d306da0-eb30-4c0d-8acb-6fa1d6e90a03",
   "metadata": {},
   "outputs": [],
   "source": []
  },
  {
   "cell_type": "markdown",
   "id": "fb7a790e",
   "metadata": {},
   "source": [
    "#### I.b 二次元空間\n",
    "データ$A=\\{\\mathbf{a}_n\\}_{n=1}^N, \\mathbf{a}\\in \\mathbb{R}^2$と構造$B=\\{\\mathbf{b}_k\\}_{k=1}^K,\\mathbf{b}\\in \\mathbb{R}^2$の要素の間の距離を測れ．\n",
    "\n"
   ]
  },
  {
   "cell_type": "code",
   "execution_count": null,
   "id": "5439f508",
   "metadata": {},
   "outputs": [],
   "source": [
    "N, K = 3, 10\n",
    "D = 2\n",
    "A = np.random.randn(N,D).reshape(N,D)\n",
    "b = np.linspace(-1,1, K)\n",
    "xx, yy = np.meshgrid(b, b)\n",
    "B = np.concatenate([xx.reshape(-1)[:, None], yy.reshape(-1)[:, None]], axis=1)\n",
    "plt.scatter(B[:,0], B[:,1], color='b')\n",
    "plt.scatter(A[:,0], A[:,1], color='r', marker='x')"
   ]
  },
  {
   "cell_type": "code",
   "execution_count": null,
   "id": "e4540a46",
   "metadata": {},
   "outputs": [],
   "source": []
  },
  {
   "cell_type": "markdown",
   "id": "7ce1d0c8",
   "metadata": {},
   "source": [
    "#### I.c 任意次元数の空間\n",
    "データ$A=\\{\\mathbf{a}_n\\}_{n=1}^N, \\mathbf{a}\\in \\mathbb{R}^D$と構造$B=\\{\\mathbf{b}_k\\}_{k=1}^K,\\mathbf{b}\\in \\mathbb{R}^D$の要素の間の距離を測れ．\n",
    "\n",
    "データと構造を定義するところからはじめよ．処理に任意の次元に対応できるようすればいいだけで，次元数は３でよい．"
   ]
  },
  {
   "cell_type": "code",
   "execution_count": null,
   "id": "69b5e00a",
   "metadata": {},
   "outputs": [],
   "source": []
  },
  {
   "cell_type": "code",
   "execution_count": null,
   "id": "8b79e44b-a897-4044-b8d6-8bf3f345ab31",
   "metadata": {},
   "outputs": [],
   "source": []
  }
 ],
 "metadata": {
  "kernelspec": {
   "display_name": "Python 3 (ipykernel)",
   "language": "python",
   "name": "python3"
  },
  "language_info": {
   "codemirror_mode": {
    "name": "ipython",
    "version": 3
   },
   "file_extension": ".py",
   "mimetype": "text/x-python",
   "name": "python",
   "nbconvert_exporter": "python",
   "pygments_lexer": "ipython3",
   "version": "3.8.2"
  },
  "toc-autonumbering": false,
  "toc-showmarkdowntxt": false
 },
 "nbformat": 4,
 "nbformat_minor": 5
}
